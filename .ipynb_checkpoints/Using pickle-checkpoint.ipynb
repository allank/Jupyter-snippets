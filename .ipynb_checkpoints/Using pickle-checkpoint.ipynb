{
 "cells": [
  {
   "cell_type": "code",
   "execution_count": 4,
   "metadata": {
    "collapsed": true
   },
   "outputs": [],
   "source": [
    "import random\n",
    "import pickle"
   ]
  },
  {
   "cell_type": "markdown",
   "metadata": {},
   "source": [
    "This function is for demonstration purposes, simply to create a set of random values to demonstrate persisting the contents of a set to disk for later use."
   ]
  },
  {
   "cell_type": "code",
   "execution_count": 5,
   "metadata": {
    "collapsed": true
   },
   "outputs": [],
   "source": [
    "def generate_random_set(n=20, r=10):\n",
    "    sample = set()\n",
    "    \n",
    "    while len(sample) < n:\n",
    "        x = random.randint(0,r)\n",
    "        y = random.randint(0,r)\n",
    "        b = random.choice([True, False])\n",
    "        \n",
    "        sample.add((x,y,b))\n",
    "        \n",
    "    return sample"
   ]
  },
  {
   "cell_type": "markdown",
   "metadata": {},
   "source": [
    "Generate the random set with 10 items:"
   ]
  },
  {
   "cell_type": "code",
   "execution_count": 6,
   "metadata": {
    "collapsed": false
   },
   "outputs": [],
   "source": [
    "random_set = generate_random_set(10)"
   ]
  },
  {
   "cell_type": "code",
   "execution_count": 7,
   "metadata": {
    "collapsed": false
   },
   "outputs": [
    {
     "data": {
      "text/plain": [
       "{(0, 8, False),\n",
       " (1, 9, True),\n",
       " (2, 2, True),\n",
       " (2, 6, False),\n",
       " (3, 2, False),\n",
       " (5, 2, True),\n",
       " (5, 4, True),\n",
       " (7, 5, True),\n",
       " (8, 0, False),\n",
       " (8, 2, True)}"
      ]
     },
     "execution_count": 7,
     "metadata": {},
     "output_type": "execute_result"
    }
   ],
   "source": [
    "random_set"
   ]
  },
  {
   "cell_type": "markdown",
   "metadata": {},
   "source": [
    "Now use the `pickle.dump` method to serialize the object you want to save (in this case the set `random_set`), and providing an open file handle to save the content to."
   ]
  },
  {
   "cell_type": "code",
   "execution_count": 8,
   "metadata": {
    "collapsed": true
   },
   "outputs": [],
   "source": [
    "pickle.dump(random_set, open(\"random_set.p\", \"wb\" ))"
   ]
  },
  {
   "cell_type": "markdown",
   "metadata": {},
   "source": [
    "The `pickle.load` method opens a previously saved Pickle dump and recreates the original object that was dumped:"
   ]
  },
  {
   "cell_type": "code",
   "execution_count": 9,
   "metadata": {
    "collapsed": true
   },
   "outputs": [],
   "source": [
    "random_set = pickle.load(open(\"random_set.p\",\"rb\"))"
   ]
  },
  {
   "cell_type": "code",
   "execution_count": 10,
   "metadata": {
    "collapsed": false
   },
   "outputs": [
    {
     "data": {
      "text/plain": [
       "{(0, 8, False),\n",
       " (1, 9, True),\n",
       " (2, 2, True),\n",
       " (2, 6, False),\n",
       " (3, 2, False),\n",
       " (5, 2, True),\n",
       " (5, 4, True),\n",
       " (7, 5, True),\n",
       " (8, 0, False),\n",
       " (8, 2, True)}"
      ]
     },
     "execution_count": 10,
     "metadata": {},
     "output_type": "execute_result"
    }
   ],
   "source": [
    "random_set"
   ]
  },
  {
   "cell_type": "code",
   "execution_count": null,
   "metadata": {
    "collapsed": true
   },
   "outputs": [],
   "source": []
  }
 ],
 "metadata": {
  "anaconda-cloud": {},
  "kernelspec": {
   "display_name": "Python [Root]",
   "language": "python",
   "name": "Python [Root]"
  },
  "language_info": {
   "codemirror_mode": {
    "name": "ipython",
    "version": 2
   },
   "file_extension": ".py",
   "mimetype": "text/x-python",
   "name": "python",
   "nbconvert_exporter": "python",
   "pygments_lexer": "ipython2",
   "version": "2.7.12"
  }
 },
 "nbformat": 4,
 "nbformat_minor": 0
}
